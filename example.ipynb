{
 "cells": [
  {
   "cell_type": "code",
   "execution_count": 5,
   "source": [
    "from bioencoder import *"
   ],
   "outputs": [],
   "metadata": {}
  },
  {
   "cell_type": "code",
   "execution_count": 6,
   "source": [
    "pos_data = \"pos.fasta\"\r\n",
    "window_size = 12"
   ],
   "outputs": [],
   "metadata": {}
  },
  {
   "cell_type": "code",
   "execution_count": 7,
   "source": [
    "pos_seqList,pos_labellist,pos_seqNamelist=get_data(pos_data,1,method=\"GAAC\",window_size=window_size)"
   ],
   "outputs": [],
   "metadata": {}
  }
 ],
 "metadata": {
  "kernelspec": {
   "display_name": "Tensorflow2.4",
   "language": "python",
   "name": "tensorflow2.4"
  },
  "language_info": {
   "codemirror_mode": {
    "name": "ipython",
    "version": 3
   },
   "file_extension": ".py",
   "mimetype": "text/x-python",
   "name": "python",
   "nbconvert_exporter": "python",
   "pygments_lexer": "ipython3",
   "version": "3.7.11"
  }
 },
 "nbformat": 4,
 "nbformat_minor": 5
}